{
 "cells": [
  {
   "cell_type": "code",
   "execution_count": null,
   "id": "c0748541-c3f2-4ec9-9cf9-da13e4c77cfa",
   "metadata": {},
   "outputs": [],
   "source": [
    "import psycopg2\n",
    "from psycopg2 import sql\n",
    "\n",
    "# Define your database connection parameters\n",
    "DB_HOST = \"localhost\"\n",
    "DB_NAME = \"hospital_management\"\n",
    "DB_USER = \"postgres\"\n",
    "DB_PASSWORD = \"nandini@108\"  # replace with your actual password\n",
    "\n",
    "# Establish the connection\n",
    "try:\n",
    "    connection = psycopg2.connect(\n",
    "        host=DB_HOST,\n",
    "        database=DB_NAME,\n",
    "        user=DB_USER,\n",
    "        password=DB_PASSWORD\n",
    "    )\n",
    "    cursor = connection.cursor()\n",
    "    print(\"Connected to the database.\")\n",
    "\n",
    "except Exception as error:\n",
    "    print(f\"Error connecting to database: {error}\")\n"
   ]
  },
  {
   "cell_type": "code",
   "execution_count": null,
   "id": "fe41c01e-444e-4640-9794-6d3e3f2f5561",
   "metadata": {},
   "outputs": [],
   "source": []
  }
 ],
 "metadata": {
  "kernelspec": {
   "display_name": "base",
   "language": "python",
   "name": "python3"
  },
  "language_info": {
   "codemirror_mode": {
    "name": "ipython",
    "version": 3
   },
   "file_extension": ".py",
   "mimetype": "text/x-python",
   "name": "python",
   "nbconvert_exporter": "python",
   "pygments_lexer": "ipython3",
   "version": "3.12.3"
  }
 },
 "nbformat": 4,
 "nbformat_minor": 5
}
